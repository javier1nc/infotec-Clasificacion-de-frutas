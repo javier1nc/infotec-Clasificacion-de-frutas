{
  "cells": [
    {
      "cell_type": "markdown",
      "metadata": {
        "id": "view-in-github",
        "colab_type": "text"
      },
      "source": [
        "<a href=\"https://colab.research.google.com/github/javier1nc/infotec-Clasificacion-de-frutas/blob/main/Clasificacion_de_frutas.ipynb\" target=\"_parent\"><img src=\"https://colab.research.google.com/assets/colab-badge.svg\" alt=\"Open In Colab\"/></a>"
      ]
    },
    {
      "cell_type": "markdown",
      "source": [
        "**José Florentino Chavira Sánchez** | **Javier Sánchez Mendoza** \n",
        "\n",
        "Modelos Avanzados en Ciencia de Datos | Proyecto integrador\n",
        "\n",
        "# Clasificacion de frutas\n"
      ],
      "metadata": {
        "id": "MxFqYSfMLOti"
      }
    },
    {
      "cell_type": "markdown",
      "source": [
        "## Introducción\n",
        "A lo largo del desarrollo de cualquier ser humano, principalmente en los primeros años de su educación básica, el niño se enfrenta en la conceptualización de todo lo que le rodea; es decir, necesita relacionar un objeto con su nombre, por ejemplo: el objeto árbol relacionarlo con sus características intrínsecas para cuando evoque esa palabra lo relacione con su figura y sus características. Sin embargo, no en todos se presenta este desarrollo, ya que se podría detectar esta deficiencia, por ejemplo, cuando un infante ilumina un elefante de color rosa o que confunda otras características.   \n",
        "\n",
        "Dentro de las actividades que se desarrollan en el área de visión por computadora, es la extracción de características de imágenes, que se puede realizar de diferentes formas como son: textura, tamaño, color, etc. Así, se va ser uso de este recurso para llegar al objetivo esperado: reforzar o identificar un objeto por medio de imágenes desplegadas.\n",
        "\n",
        "Una forma para reforzar o afianzar esta deficiencia, es mostrar imágenes de diferentes objetos o animales, visualizando sus características principales como son: su forma y color.  Esta forma de realizarlo, permitiría trabajar con una gran variedad imágenes de diferentes contextos, haciendo que se desarrolle la conceptualización efectivamente. Sólo se va a trabajar con 3 frutos para probar su funcionamiento. \n"
      ],
      "metadata": {
        "id": "CnXAC7j-_Wkd"
      }
    },
    {
      "cell_type": "markdown",
      "source": [
        "## Desarrollo\n",
        "Se implementará un clasificador de imágenes basado en el Modelo de Perceptron Muticapas (MLP)."
      ],
      "metadata": {
        "id": "EQKOv6p6_Gfv"
      }
    },
    {
      "cell_type": "markdown",
      "metadata": {
        "id": "VsSa5v8P4BHp"
      },
      "source": [
        "## Se revisa el número de clases:blueberry, naranja  y platano\n",
        "\n",
        "Se descarga el dataset de imagenes y se descomprime\n"
      ]
    },
    {
      "cell_type": "code",
      "source": [
        "!pip install wget"
      ],
      "metadata": {
        "colab": {
          "base_uri": "https://localhost:8080/"
        },
        "id": "MHp9Tv6nLEU6",
        "outputId": "a021a483-6e71-4e18-da95-c75aafa3d41b"
      },
      "execution_count": 1,
      "outputs": [
        {
          "output_type": "stream",
          "name": "stdout",
          "text": [
            "Looking in indexes: https://pypi.org/simple, https://us-python.pkg.dev/colab-wheels/public/simple/\n",
            "Requirement already satisfied: wget in /usr/local/lib/python3.8/dist-packages (3.2)\n"
          ]
        }
      ]
    },
    {
      "cell_type": "code",
      "source": [
        "!wget -N \"https://infotec-dataset.s3.us-east-2.amazonaws.com/frutas.zip\"\n",
        "!unzip -qo frutas.zip"
      ],
      "metadata": {
        "colab": {
          "base_uri": "https://localhost:8080/"
        },
        "id": "vG_yAFaoLGwZ",
        "outputId": "5e406a23-2296-417c-d0e3-418263722616"
      },
      "execution_count": 2,
      "outputs": [
        {
          "output_type": "stream",
          "name": "stdout",
          "text": [
            "--2022-12-04 03:22:08--  https://infotec-dataset.s3.us-east-2.amazonaws.com/frutas.zip\n",
            "Resolving infotec-dataset.s3.us-east-2.amazonaws.com (infotec-dataset.s3.us-east-2.amazonaws.com)... 52.219.176.58\n",
            "Connecting to infotec-dataset.s3.us-east-2.amazonaws.com (infotec-dataset.s3.us-east-2.amazonaws.com)|52.219.176.58|:443... connected.\n",
            "HTTP request sent, awaiting response... 304 Not Modified\n",
            "File ‘frutas.zip’ not modified on server. Omitting download.\n",
            "\n"
          ]
        }
      ]
    },
    {
      "cell_type": "markdown",
      "source": [
        "Se carga la carpeta principal, fruta, donde contiene subcarpetas con diferentes nombres de frutas que contiene imágenes de ellas."
      ],
      "metadata": {
        "id": "NuEgNcxNAX56"
      }
    },
    {
      "cell_type": "code",
      "execution_count": 3,
      "metadata": {
        "colab": {
          "base_uri": "https://localhost:8080/"
        },
        "id": "daDNrgFW4BHr",
        "outputId": "9e583d8b-bd03-44bf-bc7b-f58d8df58f26"
      },
      "outputs": [
        {
          "output_type": "stream",
          "name": "stdout",
          "text": [
            "['Platano', 'Naranja', 'Arandano']\n"
          ]
        }
      ],
      "source": [
        "import os\n",
        "chart_types = os.listdir(r'./frutas/')\n",
        "print(chart_types)"
      ]
    },
    {
      "cell_type": "markdown",
      "metadata": {
        "id": "ZLiqKsRI4BHs"
      },
      "source": [
        "###  Se cargan las imágenes y sus respectivas etiqueta\n",
        "Se trabajan con las subcarpetas para etiquetar cada una de las imágenes que contiene con el nombre respectivo de la fruta que le corresponde.\n",
        "\n",
        "1.   List item\n",
        "2.   List item\n",
        "\n"
      ]
    },
    {
      "cell_type": "code",
      "execution_count": 4,
      "metadata": {
        "id": "NjTo3nDZ4BHs"
      },
      "outputs": [],
      "source": [
        "import cv2   # se instala e importa opencv-python : una librería con varias herramientas de procesamiento de imágenesr\n",
        "path = r\"./frutas/\"\n",
        "im_size = 224  #Se especifica el tamaño que van a tener las imágenes.\n",
        "\n",
        "# En la lista \"images\" se guardan todas las imágenes con tamaño especificado.\n",
        "images = []\n",
        "\n",
        "#Se almacenan las etiquetas correspondientes en la lista \"labels\".\n",
        "labels = []\n",
        "\n",
        "#Este primer ciclo revisará cada uno de los elementos de la carpeta fruta.\n",
        "#La funcionalidad del segundo ciclo es ejecutar las subcarpetas, de una por una.\n",
        "for i in chart_types:\n",
        "    data_path = path + str(i)\n",
        "    filenames = [i for i in os.listdir(data_path)]\n",
        "# El segundo bucle aquí está realizando el concepto de redimensionamiento     \n",
        "    for f in filenames:        \n",
        "            img=cv2.imread(data_path + '/' + f)\n",
        "          \n",
        "            try:\n",
        "                img = cv2.resize(img, (im_size, im_size), interpolation=cv2.INTER_NEAREST)\n",
        "               \n",
        "            except:\n",
        "                break\n",
        "          \n",
        "            images.append(img)  #se van agrgando las imágens\n",
        "            labels.append(i)    #se guardan las etiquetas"
      ]
    },
    {
      "cell_type": "markdown",
      "metadata": {
        "id": "g4Ps0H8g4BHt"
      },
      "source": [
        "###  Transformar las imágenes a un tipo arreglo con la libreria numpy\n",
        "Se transforman las imágenes a tipo de arreglo con la librería numpy. \n",
        "\n",
        "El tamaño de la imagen que se pasará a la Red Nueronal será de 224x224x3."
      ]
    },
    {
      "cell_type": "code",
      "execution_count": 5,
      "metadata": {
        "id": "wRlzNQmZ4BHt",
        "colab": {
          "base_uri": "https://localhost:8080/"
        },
        "outputId": "468b5dfe-b201-4651-fa87-f8b2029532ba"
      },
      "outputs": [
        {
          "output_type": "stream",
          "name": "stdout",
          "text": [
            "(2862, 224, 224, 3)\n"
          ]
        }
      ],
      "source": [
        "import numpy as np           \n",
        "images = np.array(images)   # Se realiza la transformación de las imágenes a tipo arreglo para seguir procesando.\n",
        "print(images.shape)         # Tiene dimensión 4: cantidad de imágens, cada imagen está definida por una matrix\n",
        "# tridimensional que tiene 224 filas y 224 columnas, y un tensor de una dimensión de 3 elementos: RGB."
      ]
    },
    {
      "cell_type": "markdown",
      "metadata": {
        "id": "s3yZlwrG4BHt"
      },
      "source": [
        "###  Codificación de las etiquetas\n",
        "Se codifican las etiquetas para que en lugar que tengan letras, se trabaje con números.\n",
        "\n",
        "Se necesita convertir las etiquetas de clase categóricas a etiquetas de clase numéricos para poderse trabajar con ellos."
      ]
    },
    {
      "cell_type": "code",
      "execution_count": 6,
      "metadata": {
        "id": "rYeYzm4h4BHu"
      },
      "outputs": [],
      "source": [
        "from sklearn.preprocessing import LabelEncoder    # se instala sklearn e importar varios modelos de aprendizaje máquina \n",
        "                                                  # tradicionales.\n",
        "\n",
        "labels_labelencoder = LabelEncoder()              # La función LabelEcoder() convierte la etiqueta de clase categórica \n",
        "y = labels_labelencoder.fit_transform(labels)     # a una etiqueta de clase numérica. El vector y contendrá valores 0,1,2.\n",
        "#print(labels)\n",
        "#print(y)"
      ]
    },
    {
      "cell_type": "markdown",
      "metadata": {
        "id": "oHt4FwA54BHu"
      },
      "source": [
        "###  Dividir los datos en conjunto de entrenamiento y de prueba\n",
        "Del conjunto de subcarpetas que contienen imágenes de diferentes frutas, ahora se va a asignar cierto porcentaje de las ellas para hacer pruebas y el resto para entrenarlos. Generalmente este último tiene el mayor porcentaje.\n",
        "\n",
        "En la función train_test_split() se especificará el archivo a trabajar, images, el porcentaje de total de imágenes que\n",
        "se utilizarán para hacer la prueba, test, en este caso será del 18% y el 82% se utilizará para entrenamiento, train."
      ]
    },
    {
      "cell_type": "markdown",
      "source": [],
      "metadata": {
        "id": "sTEPi23yDyq9"
      }
    },
    {
      "cell_type": "code",
      "execution_count": 7,
      "metadata": {
        "id": "6V14eGnL4BHv",
        "colab": {
          "base_uri": "https://localhost:8080/"
        },
        "outputId": "cf2820de-334a-4895-bfc6-eb398bd21f94"
      },
      "outputs": [
        {
          "output_type": "stream",
          "name": "stdout",
          "text": [
            "(2346, 224, 224, 3)\n",
            "(2346,)\n",
            "(516, 224, 224, 3)\n",
            "(516,)\n"
          ]
        }
      ],
      "source": [
        "from sklearn.utils import shuffle\n",
        "from sklearn.model_selection import train_test_split\n",
        "\n",
        "train_x, test_x, train_y, test_y = train_test_split(images, y, test_size=0.18, random_state=42) # 2 variables para train \n",
        "                                                                                                # 2 variables para test.\n",
        "print(train_x.shape)  #valores de entrenamiento,es de dimensión 4: # imágenes, dimesiones, RGB.\n",
        "print(train_y.shape) #Tamaño de la etiqueta \n",
        "print(test_x.shape)  # datos para prueba, de dimensión 4: # imágenes, dimenesiones,RGB.\n",
        "print(test_y.shape)"
      ]
    },
    {
      "cell_type": "markdown",
      "metadata": {
        "id": "S0ZaLsUT4BHv"
      },
      "source": [
        "###  Modelo del Perceptron multicapas (MLP)\n",
        "En este punto se inicia a trabajar con el Modelo del Perceptron Multicapas (MLP)\n",
        "\n",
        "- Se cargan todas las librerías de Tensor Flow.\n",
        "- Se trabaja con el modelo secuencial.\n",
        "- Se trabaja con 4 capas escondidas.\n",
        "- Se trabaja con la función de activación sigmoidal.\n",
        "\n",
        "Se cargan todas la liberias Tensorflow para rabajar con el modelo en forma secuencial y para formar las capas ocultas.\n",
        "Se va a trabajar con 4 capas y el softtmax."
      ]
    },
    {
      "cell_type": "code",
      "execution_count": 8,
      "metadata": {
        "id": "-EdL6lrM4BHv",
        "colab": {
          "base_uri": "https://localhost:8080/"
        },
        "outputId": "f49a93c9-b4c5-418d-c78f-84198351c5e1"
      },
      "outputs": [
        {
          "output_type": "stream",
          "name": "stdout",
          "text": [
            "Model: \"sequential\"\n",
            "_________________________________________________________________\n",
            " Layer (type)                Output Shape              Param #   \n",
            "=================================================================\n",
            " flatten (Flatten)           (None, 150528)            0         \n",
            "                                                                 \n",
            " h1 (Dense)                  (None, 256)               38535424  \n",
            "                                                                 \n",
            " h2 (Dense)                  (None, 256)               65792     \n",
            "                                                                 \n",
            " h3 (Dense)                  (None, 250)               64250     \n",
            "                                                                 \n",
            " h4 (Dense)                  (None, 50)                12550     \n",
            "                                                                 \n",
            " dense (Dense)               (None, 3)                 153       \n",
            "                                                                 \n",
            "=================================================================\n",
            "Total params: 38,678,169\n",
            "Trainable params: 38,678,169\n",
            "Non-trainable params: 0\n",
            "_________________________________________________________________\n"
          ]
        }
      ],
      "source": [
        "import keras\n",
        "import tensorflow as tf\n",
        "from tensorflow.keras.models import Sequential\n",
        "from tensorflow.keras.layers import Dense\n",
        "from tensorflow.keras.layers import Flatten\n",
        "from tensorflow.keras.layers import Dropout\n",
        "#Se define el tipo de modelo a trabajar, en este caso el perceptron secuencial\n",
        "#Se tienen 4 capas ocultas: h1,h2,h3 y h4\n",
        "model = keras.Sequential([                       # la imagen que está en forma de matriz de 3 dimensiones \n",
        "keras.layers.Flatten(input_shape=(224,224,3)),   # el modelo Flatten la está convirtiendo a tipo vector. \n",
        "                                                 #El número de nodos que se tendrá de entrada será igual a 224x224x3.\n",
        "\n",
        "keras.layers.Dense(256, activation=tf.nn.sigmoid, name=\"h1\"), #1ra capa escondida con 256 nodos con función de activación sigmoidal\n",
        "keras.layers.Dense(256, activation=tf.nn.sigmoid, name=\"h2\"), #2da capa escondida con 256 nodos con función de activación sigmoidal\n",
        "keras.layers.Dense(250, activation=tf.nn.sigmoid, name=\"h3\"), #3ra capa escondida con 250 nodos con función de activación sigmoidal\n",
        "keras.layers.Dense(50, activation=tf.nn.sigmoid, name=\"h4\"), #4ta capa escondida con 50 nodos con función de activación sigmoidal\n",
        "keras.layers.Dense(3, activation=tf.nn.softmax)]) # capa de salida con 3 nodos, uno para cada clase, tres frutas.\n",
        "                                                  # Tiene función de activación softmax,que significa que desde la capa de salida\n",
        "                                                  #se va obtener la probabilidad de conseguir cada uno de esto nivele de clase.\n",
        "model.summary()"
      ]
    },
    {
      "cell_type": "markdown",
      "metadata": {
        "id": "-3LprWIL4BHv"
      },
      "source": [
        "###  Establecer los parámetros para compilar el modelo: optimización, pérdidas y tipode métrica a utilizar\n",
        "Establecer los parámetros para compilar el modelo: optimización, pérdida y tipo de métrica a utilizar."
      ]
    },
    {
      "cell_type": "code",
      "execution_count": 9,
      "metadata": {
        "id": "WflAUuQD4BHv"
      },
      "outputs": [],
      "source": [
        "model.compile(optimizer = 'adam',loss = keras.losses.binary_crossentropy,metrics=['accuracy'])"
      ]
    },
    {
      "cell_type": "markdown",
      "source": [
        "### Entrenamiento\n",
        "Lo que proporciona a la salida en cada epoch es la pérdida, y la precisión. Como se visualiza, cambia en cada una de ellas."
      ],
      "metadata": {
        "id": "lRlFiEcDEkhO"
      }
    },
    {
      "cell_type": "markdown",
      "source": [
        "Ahora se realiza el entrenamiento del modelo, donde se proporciona a la salida de cada epoch la información de pérdida y precisión."
      ],
      "metadata": {
        "id": "BnXEBhFpB4Wg"
      }
    },
    {
      "cell_type": "code",
      "execution_count": 10,
      "metadata": {
        "id": "9-gTOWdS4BHw",
        "colab": {
          "base_uri": "https://localhost:8080/"
        },
        "outputId": "f5c5c161-1350-4548-c333-d49d48f54fe5"
      },
      "outputs": [
        {
          "output_type": "stream",
          "name": "stdout",
          "text": [
            "Epoch 1/100\n",
            "74/74 [==============================] - 31s 395ms/step - loss: 1.1105 - accuracy: 0.3112\n",
            "Epoch 2/100\n",
            "74/74 [==============================] - 18s 243ms/step - loss: 1.1090 - accuracy: 0.3295\n",
            "Epoch 3/100\n",
            "74/74 [==============================] - 18s 239ms/step - loss: 1.1090 - accuracy: 0.3346\n",
            "Epoch 4/100\n",
            "74/74 [==============================] - 18s 239ms/step - loss: 1.1090 - accuracy: 0.3380\n",
            "Epoch 5/100\n",
            "74/74 [==============================] - 18s 239ms/step - loss: 1.1090 - accuracy: 0.3278\n",
            "Epoch 6/100\n",
            "74/74 [==============================] - 18s 247ms/step - loss: 1.1090 - accuracy: 0.3444\n",
            "Epoch 7/100\n",
            "74/74 [==============================] - 18s 240ms/step - loss: 1.1090 - accuracy: 0.3325\n",
            "Epoch 8/100\n",
            "74/74 [==============================] - 18s 242ms/step - loss: 1.1090 - accuracy: 0.3278\n",
            "Epoch 9/100\n",
            "74/74 [==============================] - 19s 263ms/step - loss: 1.1090 - accuracy: 0.3461\n",
            "Epoch 10/100\n",
            "74/74 [==============================] - 19s 258ms/step - loss: 1.1090 - accuracy: 0.3397\n",
            "Epoch 11/100\n",
            "74/74 [==============================] - 18s 241ms/step - loss: 1.1090 - accuracy: 0.3342\n",
            "Epoch 12/100\n",
            "74/74 [==============================] - 18s 240ms/step - loss: 1.1090 - accuracy: 0.3440\n",
            "Epoch 13/100\n",
            "74/74 [==============================] - 18s 239ms/step - loss: 1.1090 - accuracy: 0.3414\n",
            "Epoch 14/100\n",
            "74/74 [==============================] - 18s 238ms/step - loss: 1.1090 - accuracy: 0.3278\n",
            "Epoch 15/100\n",
            "74/74 [==============================] - 18s 240ms/step - loss: 1.1090 - accuracy: 0.3406\n",
            "Epoch 16/100\n",
            "74/74 [==============================] - 18s 245ms/step - loss: 1.1090 - accuracy: 0.3389\n",
            "Epoch 17/100\n",
            "74/74 [==============================] - 25s 333ms/step - loss: 1.1090 - accuracy: 0.3286\n",
            "Epoch 18/100\n",
            "74/74 [==============================] - 18s 243ms/step - loss: 1.1090 - accuracy: 0.3559\n",
            "Epoch 19/100\n",
            "74/74 [==============================] - 18s 241ms/step - loss: 1.1092 - accuracy: 0.3338\n",
            "Epoch 20/100\n",
            "74/74 [==============================] - 18s 241ms/step - loss: 1.1090 - accuracy: 0.3406\n",
            "Epoch 21/100\n",
            "74/74 [==============================] - 18s 241ms/step - loss: 1.1090 - accuracy: 0.3376\n",
            "Epoch 22/100\n",
            "74/74 [==============================] - 18s 246ms/step - loss: 1.1090 - accuracy: 0.3303\n",
            "Epoch 23/100\n",
            "74/74 [==============================] - 18s 242ms/step - loss: 1.1090 - accuracy: 0.3410\n",
            "Epoch 24/100\n",
            "74/74 [==============================] - 18s 243ms/step - loss: 1.1090 - accuracy: 0.3299\n",
            "Epoch 25/100\n",
            "74/74 [==============================] - 20s 266ms/step - loss: 1.1090 - accuracy: 0.3133\n",
            "Epoch 26/100\n",
            "74/74 [==============================] - 19s 250ms/step - loss: 1.1090 - accuracy: 0.3278\n",
            "Epoch 27/100\n",
            "74/74 [==============================] - 18s 244ms/step - loss: 1.1090 - accuracy: 0.3402\n",
            "Epoch 28/100\n",
            "74/74 [==============================] - 18s 248ms/step - loss: 1.1090 - accuracy: 0.3325\n",
            "Epoch 29/100\n",
            "74/74 [==============================] - 18s 249ms/step - loss: 1.1090 - accuracy: 0.3235\n",
            "Epoch 30/100\n",
            "74/74 [==============================] - 18s 243ms/step - loss: 1.1090 - accuracy: 0.3423\n",
            "Epoch 31/100\n",
            "74/74 [==============================] - 20s 275ms/step - loss: 1.1090 - accuracy: 0.3500\n",
            "Epoch 32/100\n",
            "74/74 [==============================] - 20s 261ms/step - loss: 1.1090 - accuracy: 0.3269\n",
            "Epoch 33/100\n",
            "74/74 [==============================] - 19s 252ms/step - loss: 1.1090 - accuracy: 0.3393\n",
            "Epoch 34/100\n",
            "74/74 [==============================] - 18s 240ms/step - loss: 1.1090 - accuracy: 0.3231\n",
            "Epoch 35/100\n",
            "74/74 [==============================] - 18s 239ms/step - loss: 1.1090 - accuracy: 0.3329\n",
            "Epoch 36/100\n",
            "74/74 [==============================] - 18s 238ms/step - loss: 1.1090 - accuracy: 0.3321\n",
            "Epoch 37/100\n",
            "74/74 [==============================] - 18s 238ms/step - loss: 1.1090 - accuracy: 0.3227\n",
            "Epoch 38/100\n",
            "74/74 [==============================] - 18s 238ms/step - loss: 1.1090 - accuracy: 0.3419\n",
            "Epoch 39/100\n",
            "74/74 [==============================] - 18s 238ms/step - loss: 1.1090 - accuracy: 0.3380\n",
            "Epoch 40/100\n",
            "74/74 [==============================] - 18s 238ms/step - loss: 1.1090 - accuracy: 0.3286\n",
            "Epoch 41/100\n",
            "74/74 [==============================] - 18s 240ms/step - loss: 1.1090 - accuracy: 0.3269\n",
            "Epoch 42/100\n",
            "74/74 [==============================] - 19s 252ms/step - loss: 1.1090 - accuracy: 0.3338\n",
            "Epoch 43/100\n",
            "74/74 [==============================] - 18s 239ms/step - loss: 1.1090 - accuracy: 0.3303\n",
            "Epoch 44/100\n",
            "74/74 [==============================] - 18s 238ms/step - loss: 1.1090 - accuracy: 0.3333\n",
            "Epoch 45/100\n",
            "74/74 [==============================] - 18s 237ms/step - loss: 1.1090 - accuracy: 0.3308\n",
            "Epoch 46/100\n",
            "74/74 [==============================] - 18s 237ms/step - loss: 1.1090 - accuracy: 0.3346\n",
            "Epoch 47/100\n",
            "74/74 [==============================] - 18s 239ms/step - loss: 1.1091 - accuracy: 0.3248\n",
            "Epoch 48/100\n",
            "74/74 [==============================] - 18s 240ms/step - loss: 1.1090 - accuracy: 0.3333\n",
            "Epoch 49/100\n",
            "74/74 [==============================] - 18s 240ms/step - loss: 1.1090 - accuracy: 0.3508\n",
            "Epoch 50/100\n",
            "74/74 [==============================] - 19s 252ms/step - loss: 1.1090 - accuracy: 0.3265\n",
            "Epoch 51/100\n",
            "74/74 [==============================] - 18s 239ms/step - loss: 1.1090 - accuracy: 0.3444\n",
            "Epoch 52/100\n",
            "74/74 [==============================] - 18s 238ms/step - loss: 1.1090 - accuracy: 0.3397\n",
            "Epoch 53/100\n",
            "74/74 [==============================] - 18s 238ms/step - loss: 1.1090 - accuracy: 0.3240\n",
            "Epoch 54/100\n",
            "74/74 [==============================] - 18s 238ms/step - loss: 1.1090 - accuracy: 0.3363\n",
            "Epoch 55/100\n",
            "74/74 [==============================] - 18s 239ms/step - loss: 1.1090 - accuracy: 0.3376\n",
            "Epoch 56/100\n",
            "74/74 [==============================] - 18s 238ms/step - loss: 1.1090 - accuracy: 0.3448\n",
            "Epoch 57/100\n",
            "74/74 [==============================] - 18s 237ms/step - loss: 1.1090 - accuracy: 0.3512\n",
            "Epoch 58/100\n",
            "74/74 [==============================] - 18s 240ms/step - loss: 1.1090 - accuracy: 0.3333\n",
            "Epoch 59/100\n",
            "74/74 [==============================] - 19s 250ms/step - loss: 1.1090 - accuracy: 0.3269\n",
            "Epoch 60/100\n",
            "74/74 [==============================] - 18s 239ms/step - loss: 1.1090 - accuracy: 0.3397\n",
            "Epoch 61/100\n",
            "74/74 [==============================] - 18s 248ms/step - loss: 1.1090 - accuracy: 0.3389\n",
            "Epoch 62/100\n",
            "74/74 [==============================] - 18s 239ms/step - loss: 1.1090 - accuracy: 0.3444\n",
            "Epoch 63/100\n",
            "74/74 [==============================] - 18s 238ms/step - loss: 1.1090 - accuracy: 0.3346\n",
            "Epoch 64/100\n",
            "74/74 [==============================] - 18s 237ms/step - loss: 1.1090 - accuracy: 0.3303\n",
            "Epoch 65/100\n",
            "74/74 [==============================] - 18s 237ms/step - loss: 1.1090 - accuracy: 0.3431\n",
            "Epoch 66/100\n",
            "74/74 [==============================] - 17s 236ms/step - loss: 1.1090 - accuracy: 0.3372\n",
            "Epoch 67/100\n",
            "74/74 [==============================] - 19s 251ms/step - loss: 1.1090 - accuracy: 0.3440\n",
            "Epoch 68/100\n",
            "74/74 [==============================] - 18s 240ms/step - loss: 1.1090 - accuracy: 0.3329\n",
            "Epoch 69/100\n",
            "74/74 [==============================] - 18s 239ms/step - loss: 1.1090 - accuracy: 0.3338\n",
            "Epoch 70/100\n",
            "74/74 [==============================] - 18s 239ms/step - loss: 1.1090 - accuracy: 0.3393\n",
            "Epoch 71/100\n",
            "74/74 [==============================] - 18s 240ms/step - loss: 1.1090 - accuracy: 0.3223\n",
            "Epoch 72/100\n",
            "74/74 [==============================] - 18s 240ms/step - loss: 1.1090 - accuracy: 0.3338\n",
            "Epoch 73/100\n",
            "74/74 [==============================] - 18s 240ms/step - loss: 1.1090 - accuracy: 0.3269\n",
            "Epoch 74/100\n",
            "74/74 [==============================] - 17s 235ms/step - loss: 1.1090 - accuracy: 0.3201\n",
            "Epoch 75/100\n",
            "74/74 [==============================] - 19s 263ms/step - loss: 1.1090 - accuracy: 0.3397\n",
            "Epoch 76/100\n",
            "74/74 [==============================] - 18s 239ms/step - loss: 1.1090 - accuracy: 0.3286\n",
            "Epoch 77/100\n",
            "74/74 [==============================] - 18s 240ms/step - loss: 1.1090 - accuracy: 0.3124\n",
            "Epoch 78/100\n",
            "74/74 [==============================] - 18s 242ms/step - loss: 1.1090 - accuracy: 0.3419\n",
            "Epoch 79/100\n",
            "74/74 [==============================] - 18s 242ms/step - loss: 1.1090 - accuracy: 0.3316\n",
            "Epoch 80/100\n",
            "74/74 [==============================] - 18s 244ms/step - loss: 1.1090 - accuracy: 0.3453\n",
            "Epoch 81/100\n",
            "74/74 [==============================] - 18s 241ms/step - loss: 1.1090 - accuracy: 0.3325\n",
            "Epoch 82/100\n",
            "74/74 [==============================] - 18s 241ms/step - loss: 1.1090 - accuracy: 0.3521\n",
            "Epoch 83/100\n",
            "74/74 [==============================] - 18s 239ms/step - loss: 1.1090 - accuracy: 0.3269\n",
            "Epoch 84/100\n",
            "74/74 [==============================] - 19s 254ms/step - loss: 1.1090 - accuracy: 0.3240\n",
            "Epoch 85/100\n",
            "74/74 [==============================] - 18s 241ms/step - loss: 1.1090 - accuracy: 0.3295\n",
            "Epoch 86/100\n",
            "74/74 [==============================] - 18s 240ms/step - loss: 1.1090 - accuracy: 0.3265\n",
            "Epoch 87/100\n",
            "74/74 [==============================] - 18s 239ms/step - loss: 1.1090 - accuracy: 0.3431\n",
            "Epoch 88/100\n",
            "74/74 [==============================] - 18s 241ms/step - loss: 1.1090 - accuracy: 0.3465\n",
            "Epoch 89/100\n",
            "74/74 [==============================] - 18s 239ms/step - loss: 1.1090 - accuracy: 0.3453\n",
            "Epoch 90/100\n",
            "74/74 [==============================] - 18s 239ms/step - loss: 1.1090 - accuracy: 0.3495\n",
            "Epoch 91/100\n",
            "74/74 [==============================] - 18s 244ms/step - loss: 1.1090 - accuracy: 0.3329\n",
            "Epoch 92/100\n",
            "74/74 [==============================] - 19s 255ms/step - loss: 1.1090 - accuracy: 0.3419\n",
            "Epoch 93/100\n",
            "74/74 [==============================] - 18s 238ms/step - loss: 1.1090 - accuracy: 0.3257\n",
            "Epoch 94/100\n",
            "74/74 [==============================] - 18s 238ms/step - loss: 1.1090 - accuracy: 0.3146\n",
            "Epoch 95/100\n",
            "74/74 [==============================] - 18s 240ms/step - loss: 1.1090 - accuracy: 0.3333\n",
            "Epoch 96/100\n",
            "74/74 [==============================] - 18s 238ms/step - loss: 1.1090 - accuracy: 0.3397\n",
            "Epoch 97/100\n",
            "74/74 [==============================] - 18s 237ms/step - loss: 1.1090 - accuracy: 0.3265\n",
            "Epoch 98/100\n",
            "74/74 [==============================] - 18s 239ms/step - loss: 1.1090 - accuracy: 0.3286\n",
            "Epoch 99/100\n",
            "74/74 [==============================] - 18s 238ms/step - loss: 1.1090 - accuracy: 0.3308\n",
            "Epoch 100/100\n",
            "74/74 [==============================] - 19s 251ms/step - loss: 1.1090 - accuracy: 0.3295\n"
          ]
        }
      ],
      "source": [
        "history = model.fit(train_x,train_y,epochs=100)"
      ]
    },
    {
      "cell_type": "markdown",
      "source": [
        "### Evaluar el rendimiento del modelo en el conjunto de datos de prueba dividido\n",
        "Se evalúa el rendimiento del modelo con el conjunto de datos de prueba, entrega precisión y pérdida del modelo.\n"
      ],
      "metadata": {
        "id": "fE5yIl5WB-d-"
      }
    },
    {
      "cell_type": "code",
      "source": [
        "model.evaluate(test_x,test_y,batch_size=3)"
      ],
      "metadata": {
        "colab": {
          "base_uri": "https://localhost:8080/"
        },
        "id": "bqg5hvxNHOSm",
        "outputId": "75b1ad34-22a4-448a-b3e5-bd5ac0854152"
      },
      "execution_count": 11,
      "outputs": [
        {
          "output_type": "stream",
          "name": "stdout",
          "text": [
            "172/172 [==============================] - 6s 35ms/step - loss: 1.1269 - accuracy: 0.3547\n"
          ]
        },
        {
          "output_type": "execute_result",
          "data": {
            "text/plain": [
              "[1.1268552541732788, 0.35465115308761597]"
            ]
          },
          "metadata": {},
          "execution_count": 11
        }
      ]
    },
    {
      "cell_type": "code",
      "source": [
        "from sklearn.metrics import accuracy_score,classification_report"
      ],
      "metadata": {
        "id": "dzHuBo0mHbCN"
      },
      "execution_count": 12,
      "outputs": []
    },
    {
      "cell_type": "code",
      "source": [
        "#Estas métricas son el resultado del modelo para cada una de las muestras de ensayo\n",
        "ypred = model.predict(test_x)\n",
        "# argmax().- básicamente significa que a partir de este vector se asigna el índice de los valores más grandes. \n",
        "ypred = np.argmax(ypred,axis=1)"
      ],
      "metadata": {
        "colab": {
          "base_uri": "https://localhost:8080/"
        },
        "id": "md12ddKwLLGt",
        "outputId": "94f4d74e-0002-4a65-b7ab-d1509722937a"
      },
      "execution_count": 24,
      "outputs": [
        {
          "output_type": "stream",
          "name": "stdout",
          "text": [
            "17/17 [==============================] - 1s 80ms/step\n"
          ]
        }
      ]
    },
    {
      "cell_type": "code",
      "source": [
        "from sklearn.model_selection import cross_val_score\n",
        "from sklearn.metrics import accuracy_score,classification_report\n",
        "pred_y_NN=model.predict(test_x)"
      ],
      "metadata": {
        "colab": {
          "base_uri": "https://localhost:8080/"
        },
        "id": "bw0Z5-J0HdFQ",
        "outputId": "c48efdb0-c03a-4e35-b48a-4c6d2084eac3"
      },
      "execution_count": 13,
      "outputs": [
        {
          "output_type": "stream",
          "name": "stdout",
          "text": [
            "17/17 [==============================] - 2s 82ms/step\n"
          ]
        }
      ]
    },
    {
      "cell_type": "markdown",
      "metadata": {
        "id": "RhXgQ2z-4BHw"
      },
      "source": [
        "### Guardar el modelo\n",
        "Se guarda el modelo para no estar procesando desde el principio cada vez que se realice una prueba del mismo."
      ]
    },
    {
      "cell_type": "code",
      "execution_count": 14,
      "metadata": {
        "id": "ZU3dngxi4BHw"
      },
      "outputs": [],
      "source": [
        "model.save('MLP_1.h1')"
      ]
    },
    {
      "cell_type": "markdown",
      "metadata": {
        "id": "9qUwMXGy4BHw"
      },
      "source": [
        "### Cargue el modelo guardado y pruebe sobre un solo conjunto de datos\n",
        "\n",
        "Se carga el modelo guardado y se prueba con una imagen.\n",
        "\n",
        "Para su verificación, se cambiarían las frutas para ver su clasificación,por lo que al guardar el modelo no se tendría que correr todo el programa para ver su efectividad."
      ]
    },
    {
      "cell_type": "code",
      "execution_count": 15,
      "metadata": {
        "id": "PkMQj9DB4BHw"
      },
      "outputs": [],
      "source": [
        "import tensorflow\n",
        "from tensorflow.keras.models import load_model\n",
        "from tensorflow.keras.preprocessing.image import load_img\n",
        "model = tensorflow.keras.models.load_model('MLP_1.h1') #El archivo guardado del modelo se carga para probarlo."
      ]
    },
    {
      "cell_type": "code",
      "execution_count": 16,
      "metadata": {
        "id": "DBMjtv-i4BHw"
      },
      "outputs": [],
      "source": [
        "import matplotlib.pyplot as plt\n",
        "import cv2 as cv\n",
        "from matplotlib.image import imread\n",
        "import numpy as np"
      ]
    },
    {
      "cell_type": "code",
      "source": [
        "!wget -N \"https://infotec-dataset.s3.us-east-2.amazonaws.com/frutas_pruebas.zip\"\n",
        "!unzip -qo frutas_pruebas.zip"
      ],
      "metadata": {
        "id": "FUwlnI-kOulJ",
        "colab": {
          "base_uri": "https://localhost:8080/"
        },
        "outputId": "8df8f846-4cc5-4cfe-b13e-2146ef0f1339"
      },
      "execution_count": 17,
      "outputs": [
        {
          "output_type": "stream",
          "name": "stdout",
          "text": [
            "--2022-12-04 03:52:57--  https://infotec-dataset.s3.us-east-2.amazonaws.com/frutas_pruebas.zip\n",
            "Resolving infotec-dataset.s3.us-east-2.amazonaws.com (infotec-dataset.s3.us-east-2.amazonaws.com)... 52.219.97.74\n",
            "Connecting to infotec-dataset.s3.us-east-2.amazonaws.com (infotec-dataset.s3.us-east-2.amazonaws.com)|52.219.97.74|:443... connected.\n",
            "HTTP request sent, awaiting response... 200 OK\n",
            "Length: 2159549 (2.1M) [application/zip]\n",
            "Saving to: ‘frutas_pruebas.zip’\n",
            "\n",
            "frutas_pruebas.zip  100%[===================>]   2.06M  11.4MB/s    in 0.2s    \n",
            "\n",
            "2022-12-04 03:52:57 (11.4 MB/s) - ‘frutas_pruebas.zip’ saved [2159549/2159549]\n",
            "\n"
          ]
        }
      ]
    },
    {
      "cell_type": "code",
      "execution_count": 18,
      "metadata": {
        "id": "M_i2ct4b4BHw",
        "colab": {
          "base_uri": "https://localhost:8080/"
        },
        "outputId": "1e9aa036-a2c8-4626-b1df-a6ea5d3a5592"
      },
      "outputs": [
        {
          "output_type": "stream",
          "name": "stdout",
          "text": [
            "<class 'PIL.Image.Image'>\n"
          ]
        }
      ],
      "source": [
        "img = load_img('./frutas_pruebas/Platano/86_100.jpg', target_size=(224, 224)) #Se lee la imagen y se dimensiona para su compraración\n",
        "\n",
        "print(type(img))"
      ]
    },
    {
      "cell_type": "code",
      "execution_count": 19,
      "metadata": {
        "id": "n2DFahdX4BHx",
        "colab": {
          "base_uri": "https://localhost:8080/",
          "height": 269
        },
        "outputId": "0f2d968e-d379-4a86-a4bb-2e4004cff0b7"
      },
      "outputs": [
        {
          "output_type": "display_data",
          "data": {
            "text/plain": [
              "<Figure size 432x288 with 1 Axes>"
            ],
            "image/png": "[encoded data removed]"
          },
          "metadata": {
            "needs_background": "light"
          }
        }
      ],
      "source": [
        "plt.imshow(img)\n",
        "plt.show()"
      ]
    },
    {
      "cell_type": "code",
      "execution_count": 20,
      "metadata": {
        "id": "Pr38Eun54BHx"
      },
      "outputs": [],
      "source": [
        "img = np.asarray(img)  # Se hacer la conversión a tipo arreglo.\n",
        "img = np.expand_dims(img, axis=0) # Esta función amplía la matriz insertando un nuevo eje en la posición especificada.\n",
        "                                 #Esta función requiere dos parámetros(arreglo de entrada, Posición en la que se insertará el nuevo eje)"
      ]
    },
    {
      "cell_type": "code",
      "execution_count": 21,
      "metadata": {
        "id": "gug5-bsh4BHx",
        "colab": {
          "base_uri": "https://localhost:8080/"
        },
        "outputId": "21facd33-4bca-439c-e954-7aef53a32819"
      },
      "outputs": [
        {
          "output_type": "stream",
          "name": "stdout",
          "text": [
            "1/1 [==============================] - 0s 100ms/step\n"
          ]
        }
      ],
      "source": [
        "predict = model.predict(img)\n",
        "classes=predict=np.argmax(predict,axis=1)"
      ]
    },
    {
      "cell_type": "markdown",
      "source": [
        "### Verificación\n",
        "\n",
        "Con estas condiciones, se va a verificar si el fruto de prueba corresponde a la clasificación proporcionada por el entrenamiento."
      ],
      "metadata": {
        "id": "-BpIN1alGlE7"
      }
    },
    {
      "cell_type": "code",
      "execution_count": 22,
      "metadata": {
        "id": "9-4WR3pi4BHx",
        "colab": {
          "base_uri": "https://localhost:8080/"
        },
        "outputId": "2b253a45-a205-4f20-fb59-9a738c89a0b0"
      },
      "outputs": [
        {
          "output_type": "stream",
          "name": "stdout",
          "text": [
            "Arandano\n"
          ]
        }
      ],
      "source": [
        "if classes==0:\n",
        "    print(chart_types[0])\n",
        "elif classes==1:\n",
        "    print(chart_types[1])\n",
        "\n",
        "elif classes==2:\n",
        "     print(chart_types[2])"
      ]
    },
    {
      "cell_type": "code",
      "execution_count": 23,
      "metadata": {
        "id": "UUT6xYko4BHx",
        "colab": {
          "base_uri": "https://localhost:8080/"
        },
        "outputId": "2b3c678e-4fa2-4c8f-d0c1-9217013fc14a"
      },
      "outputs": [
        {
          "output_type": "stream",
          "name": "stdout",
          "text": [
            "[2]\n"
          ]
        }
      ],
      "source": [
        "print(predict)"
      ]
    },
    {
      "cell_type": "markdown",
      "source": [
        "## Conclusiones\n",
        "Este modelo con el que se trabajó, MLP, es de los básicos, pero tuvo buen desempeño. Para obtener una precisión elevada, se tendría que tener una base de datos muy grande o incrementar el número de epochs. Con respecto al problema planteado, se pudo llegar a probar que cuando se le presente una fruta para identificar, esta es reconocida y se presenta nombre del fruto. \n",
        "\n",
        "Realizando 2 repeticiones de 10 minutos cada hora por día, se podría probar la efectividad de este proyecto. Este es sólo un instrumento para llegar a un fin, por lo que el acompañamiento de un adulto, para realizar la actividad, siempre es necesaria.  Este proyecto se podría mejorar, si se le agregara que dijera el nombre del fruto y además otra característica, como por ejemplo, que dijera redonda, cuadrada, alta, etc., pero está fuera del alcance planteado.\n",
        "\n",
        "Se sabe que existen proyectos de este tipo y mejores, pero caros. Este proyecto sólo necesita una computadora, por lo que sería posible instalarlo en escuelas primarias para aplicación.\n"
      ],
      "metadata": {
        "id": "XZX5rtMtCNR5"
      }
    }
  ],
  "metadata": {
    "kernelspec": {
      "display_name": "Python 3 (ipykernel)",
      "language": "python",
      "name": "python3"
    },
    "language_info": {
      "codemirror_mode": {
        "name": "ipython",
        "version": 3
      },
      "file_extension": ".py",
      "mimetype": "text/x-python",
      "name": "python",
      "nbconvert_exporter": "python",
      "pygments_lexer": "ipython3",
      "version": "3.7.13"
    },
    "colab": {
      "provenance": [],
      "include_colab_link": true
    }
  },
  "nbformat": 4,
  "nbformat_minor": 0
}