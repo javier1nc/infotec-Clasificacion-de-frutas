{
  "cells": [
    {
      "cell_type": "markdown",
      "metadata": {
        "id": "view-in-github",
        "colab_type": "text"
      },
      "source": [
        "<a href=\"https://colab.research.google.com/github/javier1nc/infotec-Clasificacion-de-frutas/blob/main/Clasificacion_de_frutas.ipynb\" target=\"_parent\"><img src=\"https://colab.research.google.com/assets/colab-badge.svg\" alt=\"Open In Colab\"/></a>"
      ]
    },
    {
      "cell_type": "markdown",
      "metadata": {
        "id": "VsSa5v8P4BHp"
      },
      "source": [
        "## Checking number of classes"
      ]
    },
    {
      "cell_type": "code",
      "source": [],
      "metadata": {
        "id": "YFP1GqEYLGYc"
      },
      "execution_count": null,
      "outputs": []
    },
    {
      "cell_type": "code",
      "source": [
        "!pip install wget"
      ],
      "metadata": {
        "colab": {
          "base_uri": "https://localhost:8080/"
        },
        "id": "MHp9Tv6nLEU6",
        "outputId": "7f15d1c3-6b42-47d7-9cce-12d30e1c948a"
      },
      "execution_count": 5,
      "outputs": [
        {
          "output_type": "stream",
          "name": "stdout",
          "text": [
            "Looking in indexes: https://pypi.org/simple, https://us-python.pkg.dev/colab-wheels/public/simple/\n",
            "Collecting wget\n",
            "  Downloading wget-3.2.zip (10 kB)\n",
            "Building wheels for collected packages: wget\n",
            "  Building wheel for wget (setup.py) ... \u001b[?25l\u001b[?25hdone\n",
            "  Created wheel for wget: filename=wget-3.2-py3-none-any.whl size=9674 sha256=737d2800d47014e30fbff89a6a6c3daeedcdf83b7dbfce53902650fd8e25c9eb\n",
            "  Stored in directory: /root/.cache/pip/wheels/bd/a8/c3/3cf2c14a1837a4e04bd98631724e81f33f462d86a1d895fae0\n",
            "Successfully built wget\n",
            "Installing collected packages: wget\n",
            "Successfully installed wget-3.2\n"
          ]
        }
      ]
    },
    {
      "cell_type": "code",
      "source": [
        "!wget -N \"https://objects-us-east-1.dream.io/infotec/frutas.zip\"\n",
        "!unzip -qo frutas.zip"
      ],
      "metadata": {
        "colab": {
          "base_uri": "https://localhost:8080/"
        },
        "id": "vG_yAFaoLGwZ",
        "outputId": "ad0f249c-d396-4069-c96c-56347dfffb3d"
      },
      "execution_count": 6,
      "outputs": [
        {
          "output_type": "stream",
          "name": "stdout",
          "text": [
            "--2022-12-01 05:33:32--  https://objects-us-east-1.dream.io/infotec/frutas.zip\n",
            "Resolving objects-us-east-1.dream.io (objects-us-east-1.dream.io)... 208.113.201.37, 2607:f298:5:ee00::33\n",
            "Connecting to objects-us-east-1.dream.io (objects-us-east-1.dream.io)|208.113.201.37|:443... connected.\n",
            "HTTP request sent, awaiting response... 200 OK\n",
            "Length: 6423177 (6.1M) [application/zip]\n",
            "Saving to: ‘frutas.zip’\n",
            "\n",
            "frutas.zip          100%[===================>]   6.12M  --.-KB/s    in 0.08s   \n",
            "\n",
            "2022-12-01 05:33:33 (72.4 MB/s) - ‘frutas.zip’ saved [6423177/6423177]\n",
            "\n"
          ]
        }
      ]
    },
    {
      "cell_type": "code",
      "execution_count": 7,
      "metadata": {
        "colab": {
          "base_uri": "https://localhost:8080/"
        },
        "id": "daDNrgFW4BHr",
        "outputId": "74aa0020-d081-4b1a-88a6-1a8d6f4bec3f"
      },
      "outputs": [
        {
          "output_type": "stream",
          "name": "stdout",
          "text": [
            "['Orange', 'Blueberry', 'Banana']\n"
          ]
        }
      ],
      "source": [
        "import os\n",
        "chart_types = os.listdir(r'./frutas/')\n",
        "print(chart_types)"
      ]
    },
    {
      "cell_type": "markdown",
      "metadata": {
        "id": "ZLiqKsRI4BHs"
      },
      "source": [
        "## Loading images and their respective label"
      ]
    },
    {
      "cell_type": "code",
      "execution_count": 10,
      "metadata": {
        "id": "NjTo3nDZ4BHs"
      },
      "outputs": [],
      "source": [
        "\n",
        "import cv2             # install and import opencv-python : a library with various image processing tool.\n",
        "path = r\"./frutas/\"\n",
        "im_size = 224\n",
        "\n",
        "# In images list we store all the resized images\n",
        "#The images which are resize and converted into 223 by 224\n",
        "\n",
        "images = []\n",
        "\n",
        "#Store the corresponding labels in the labels list\n",
        "\n",
        "labels = []\n",
        "\n",
        "#This loop will take us in a folder one by one\n",
        "#The functionality in the second for loop is performed folder by folder\n",
        "for i in chart_types:\n",
        "    data_path = path + str(i)\n",
        "    filenames = [i for i in os.listdir(data_path)]\n",
        "# The Second loop here is performing the resizing concept     \n",
        "    for f in filenames:        \n",
        "            img=cv2.imread(data_path + '/' + f)\n",
        "          #  print(img)\n",
        "            try:\n",
        "                img = cv2.resize(img, (im_size, im_size), interpolation=cv2.INTER_NEAREST)\n",
        "                #print(img.shape)\n",
        "            except:\n",
        "                break\n",
        "          #  height, width , layers = img.shape\n",
        "          #  size=(width,height)\n",
        "            #print(img.shape)\n",
        "            #print(img)\n",
        "            images.append(img)\n",
        "            labels.append(i)\n",
        "#print(labels)\n",
        "#print(images)"
      ]
    },
    {
      "cell_type": "markdown",
      "metadata": {
        "id": "g4Ps0H8g4BHt"
      },
      "source": [
        "## Transform the image array to a numpy type"
      ]
    },
    {
      "cell_type": "code",
      "execution_count": 11,
      "metadata": {
        "colab": {
          "base_uri": "https://localhost:8080/"
        },
        "id": "wRlzNQmZ4BHt",
        "outputId": "7b2bce88-199e-49c8-99eb-e25b6275c1a3"
      },
      "outputs": [
        {
          "output_type": "stream",
          "name": "stdout",
          "text": [
            "(1431, 224, 224, 3)\n"
          ]
        }
      ],
      "source": [
        "import numpy as np\n",
        "images = np.array(images)\n",
        "#print(images)\n",
        "print(images.shape)"
      ]
    },
    {
      "cell_type": "markdown",
      "metadata": {
        "id": "s3yZlwrG4BHt"
      },
      "source": [
        "## Encode the label"
      ]
    },
    {
      "cell_type": "code",
      "execution_count": 12,
      "metadata": {
        "colab": {
          "base_uri": "https://localhost:8080/"
        },
        "id": "rYeYzm4h4BHu",
        "outputId": "60d1dc6b-c5d1-4b80-b142-8ac0247cd01b"
      },
      "outputs": [
        {
          "output_type": "stream",
          "name": "stdout",
          "text": [
            "[2 2 2 ... 0 0 0]\n"
          ]
        }
      ],
      "source": [
        "from sklearn.preprocessing import LabelEncoder    # intall sklearn and import - a library with various traditional machine \n",
        "                                                  # learning models\n",
        "\n",
        "labels_labelencoder = LabelEncoder()\n",
        "y = labels_labelencoder.fit_transform(labels)\n",
        "#print(labels)\n",
        "#print(\"blueberry: 0, naranja : 1, platano: 2 \\n\")\n",
        "print(y)"
      ]
    },
    {
      "cell_type": "markdown",
      "metadata": {
        "id": "oHt4FwA54BHu"
      },
      "source": [
        "## Split data into training and testing set"
      ]
    },
    {
      "cell_type": "code",
      "execution_count": 13,
      "metadata": {
        "colab": {
          "base_uri": "https://localhost:8080/"
        },
        "id": "6V14eGnL4BHv",
        "outputId": "44777e71-d416-44ce-c155-a8376d14f8f8"
      },
      "outputs": [
        {
          "output_type": "stream",
          "name": "stdout",
          "text": [
            "(1173, 224, 224, 3)\n",
            "(1173,)\n",
            "(258, 224, 224, 3)\n",
            "(258,)\n"
          ]
        }
      ],
      "source": [
        "from sklearn.utils import shuffle\n",
        "from sklearn.model_selection import train_test_split\n",
        "\n",
        "train_x, test_x, train_y, test_y = train_test_split(images, y, test_size=0.18, random_state=42)\n",
        "\n",
        "print(train_x.shape)\n",
        "print(train_y.shape)\n",
        "print(test_x.shape)\n",
        "print(test_y.shape)"
      ]
    },
    {
      "cell_type": "markdown",
      "metadata": {
        "id": "S0ZaLsUT4BHv"
      },
      "source": [
        "## Model MLP"
      ]
    },
    {
      "cell_type": "code",
      "execution_count": 14,
      "metadata": {
        "colab": {
          "base_uri": "https://localhost:8080/"
        },
        "id": "-EdL6lrM4BHv",
        "outputId": "c100b52d-fd11-4149-fd60-caeb0997e843"
      },
      "outputs": [
        {
          "output_type": "stream",
          "name": "stdout",
          "text": [
            "Model: \"sequential\"\n",
            "_________________________________________________________________\n",
            " Layer (type)                Output Shape              Param #   \n",
            "=================================================================\n",
            " flatten (Flatten)           (None, 150528)            0         \n",
            "                                                                 \n",
            " h1 (Dense)                  (None, 256)               38535424  \n",
            "                                                                 \n",
            " h2 (Dense)                  (None, 256)               65792     \n",
            "                                                                 \n",
            " h3 (Dense)                  (None, 250)               64250     \n",
            "                                                                 \n",
            " h4 (Dense)                  (None, 50)                12550     \n",
            "                                                                 \n",
            " dense (Dense)               (None, 3)                 153       \n",
            "                                                                 \n",
            "=================================================================\n",
            "Total params: 38,678,169\n",
            "Trainable params: 38,678,169\n",
            "Non-trainable params: 0\n",
            "_________________________________________________________________\n"
          ]
        }
      ],
      "source": [
        "import keras\n",
        "import tensorflow as tf\n",
        "from tensorflow.keras.models import Sequential\n",
        "from tensorflow.keras.layers import Dense\n",
        "from tensorflow.keras.layers import Flatten\n",
        "from tensorflow.keras.layers import Dropout\n",
        "\n",
        "model = keras.Sequential([\n",
        "keras.layers.Flatten(input_shape=(224,224,3)),\n",
        "#keras.layers.Dropout(0.5),\n",
        "keras.layers.Dense(256, activation=tf.nn.sigmoid, name=\"h1\"),\n",
        "keras.layers.Dense(256, activation=tf.nn.sigmoid, name=\"h2\"),\n",
        "keras.layers.Dense(250, activation=tf.nn.sigmoid, name=\"h3\"),\n",
        "keras.layers.Dense(50, activation=tf.nn.sigmoid, name=\"h4\"),\n",
        "keras.layers.Dense(3, activation=tf.nn.softmax)])\n",
        "\n",
        "model.summary()\n",
        "\n",
        "#model = Sequential()\n",
        "#model.add(Flatten(input_shape=(224,224,3)))\n",
        "#model.add(Dropout(0.2))\n",
        "#model.add(Dense(256, activation=tf.nn.relu))\n",
        "#model.add(Dense(50, activation=tf.nn.relu))\n",
        "#model.add(Dense(3, activation=tf.nn.softmax))\n",
        "#model.summary()"
      ]
    },
    {
      "cell_type": "markdown",
      "metadata": {
        "id": "-3LprWIL4BHv"
      },
      "source": [
        "## Set parameters to compile the model"
      ]
    },
    {
      "cell_type": "code",
      "execution_count": 15,
      "metadata": {
        "id": "WflAUuQD4BHv"
      },
      "outputs": [],
      "source": [
        "model.compile(optimizer = 'adam',loss = keras.losses.binary_crossentropy,metrics=['accuracy'])\n",
        "#model.compile(optimizer = tf.keras.optimizers.Adam(), loss = 'sparse_categorical_crossentopy',metrics = ['accuracy'])"
      ]
    },
    {
      "cell_type": "code",
      "execution_count": 16,
      "metadata": {
        "colab": {
          "base_uri": "https://localhost:8080/"
        },
        "id": "9-gTOWdS4BHw",
        "outputId": "0b48b1bc-b136-4ab6-d3ca-08dfbfb93beb"
      },
      "outputs": [
        {
          "output_type": "stream",
          "name": "stdout",
          "text": [
            "Epoch 1/100\n",
            "37/37 [==============================] - 8s 175ms/step - loss: 1.1361 - accuracy: 0.3564\n",
            "Epoch 2/100\n",
            "37/37 [==============================] - 6s 170ms/step - loss: 1.0972 - accuracy: 0.3427\n",
            "Epoch 3/100\n",
            "37/37 [==============================] - 6s 158ms/step - loss: 1.0969 - accuracy: 0.3282\n",
            "Epoch 4/100\n",
            "37/37 [==============================] - 6s 166ms/step - loss: 1.0968 - accuracy: 0.3257\n",
            "Epoch 5/100\n",
            "37/37 [==============================] - 7s 185ms/step - loss: 1.0968 - accuracy: 0.3120\n",
            "Epoch 6/100\n",
            "37/37 [==============================] - 6s 173ms/step - loss: 1.0968 - accuracy: 0.3376\n",
            "Epoch 7/100\n",
            "37/37 [==============================] - 6s 169ms/step - loss: 1.0968 - accuracy: 0.3333\n",
            "Epoch 8/100\n",
            "37/37 [==============================] - 7s 183ms/step - loss: 1.0968 - accuracy: 0.3419\n",
            "Epoch 9/100\n",
            "37/37 [==============================] - 6s 173ms/step - loss: 1.0968 - accuracy: 0.3342\n",
            "Epoch 10/100\n",
            "37/37 [==============================] - 7s 180ms/step - loss: 1.0968 - accuracy: 0.3299\n",
            "Epoch 11/100\n",
            "37/37 [==============================] - 6s 153ms/step - loss: 1.0968 - accuracy: 0.3572\n",
            "Epoch 12/100\n",
            "37/37 [==============================] - 7s 182ms/step - loss: 1.0968 - accuracy: 0.3180\n",
            "Epoch 13/100\n",
            "37/37 [==============================] - 6s 170ms/step - loss: 1.0968 - accuracy: 0.3299\n",
            "Epoch 14/100\n",
            "37/37 [==============================] - 6s 151ms/step - loss: 1.0968 - accuracy: 0.3376\n",
            "Epoch 15/100\n",
            "37/37 [==============================] - 6s 159ms/step - loss: 1.0968 - accuracy: 0.3376\n",
            "Epoch 16/100\n",
            "37/37 [==============================] - 6s 166ms/step - loss: 1.0968 - accuracy: 0.3478\n",
            "Epoch 17/100\n",
            "37/37 [==============================] - 6s 151ms/step - loss: 1.0968 - accuracy: 0.3205\n",
            "Epoch 18/100\n",
            "37/37 [==============================] - 6s 161ms/step - loss: 1.0968 - accuracy: 0.3282\n",
            "Epoch 19/100\n",
            "37/37 [==============================] - 6s 173ms/step - loss: 1.0968 - accuracy: 0.3333\n",
            "Epoch 20/100\n",
            "37/37 [==============================] - 5s 147ms/step - loss: 1.0968 - accuracy: 0.3606\n",
            "Epoch 21/100\n",
            "37/37 [==============================] - 6s 172ms/step - loss: 1.0968 - accuracy: 0.3180\n",
            "Epoch 22/100\n",
            "37/37 [==============================] - 7s 188ms/step - loss: 1.0968 - accuracy: 0.3333\n",
            "Epoch 23/100\n",
            "37/37 [==============================] - 5s 143ms/step - loss: 1.0968 - accuracy: 0.3376\n",
            "Epoch 24/100\n",
            "37/37 [==============================] - 7s 177ms/step - loss: 1.0968 - accuracy: 0.3495\n",
            "Epoch 25/100\n",
            "37/37 [==============================] - 6s 167ms/step - loss: 1.0968 - accuracy: 0.3367\n",
            "Epoch 26/100\n",
            "37/37 [==============================] - 6s 169ms/step - loss: 1.0968 - accuracy: 0.3512\n",
            "Epoch 27/100\n",
            "37/37 [==============================] - 6s 156ms/step - loss: 1.0968 - accuracy: 0.3427\n",
            "Epoch 28/100\n",
            "37/37 [==============================] - 6s 167ms/step - loss: 1.0968 - accuracy: 0.3188\n",
            "Epoch 29/100\n",
            "37/37 [==============================] - 6s 162ms/step - loss: 1.0968 - accuracy: 0.3342\n",
            "Epoch 30/100\n",
            "37/37 [==============================] - 6s 156ms/step - loss: 1.0968 - accuracy: 0.3205\n",
            "Epoch 31/100\n",
            "37/37 [==============================] - 6s 158ms/step - loss: 1.0968 - accuracy: 0.3461\n",
            "Epoch 32/100\n",
            "37/37 [==============================] - 6s 158ms/step - loss: 1.0968 - accuracy: 0.3342\n",
            "Epoch 33/100\n",
            "37/37 [==============================] - 6s 158ms/step - loss: 1.0968 - accuracy: 0.3299\n",
            "Epoch 34/100\n",
            "37/37 [==============================] - 6s 150ms/step - loss: 1.0968 - accuracy: 0.3342\n",
            "Epoch 35/100\n",
            "37/37 [==============================] - 6s 165ms/step - loss: 1.0968 - accuracy: 0.3257\n",
            "Epoch 36/100\n",
            "37/37 [==============================] - 6s 174ms/step - loss: 1.0968 - accuracy: 0.3495\n",
            "Epoch 37/100\n",
            "37/37 [==============================] - 6s 168ms/step - loss: 1.0968 - accuracy: 0.3470\n",
            "Epoch 38/100\n",
            "37/37 [==============================] - 6s 159ms/step - loss: 1.0968 - accuracy: 0.3308\n",
            "Epoch 39/100\n",
            "37/37 [==============================] - 6s 160ms/step - loss: 1.0968 - accuracy: 0.3359\n",
            "Epoch 40/100\n",
            "37/37 [==============================] - 5s 148ms/step - loss: 1.0968 - accuracy: 0.3359\n",
            "Epoch 41/100\n",
            "37/37 [==============================] - 6s 160ms/step - loss: 1.0968 - accuracy: 0.3214\n",
            "Epoch 42/100\n",
            "37/37 [==============================] - 6s 155ms/step - loss: 1.0968 - accuracy: 0.3470\n",
            "Epoch 43/100\n",
            "37/37 [==============================] - 5s 143ms/step - loss: 1.0968 - accuracy: 0.3444\n",
            "Epoch 44/100\n",
            "37/37 [==============================] - 7s 178ms/step - loss: 1.0968 - accuracy: 0.3035\n",
            "Epoch 45/100\n",
            "37/37 [==============================] - 6s 171ms/step - loss: 1.0968 - accuracy: 0.3419\n",
            "Epoch 46/100\n",
            "37/37 [==============================] - 6s 164ms/step - loss: 1.0968 - accuracy: 0.3035\n",
            "Epoch 47/100\n",
            "37/37 [==============================] - 7s 180ms/step - loss: 1.0968 - accuracy: 0.3615\n",
            "Epoch 48/100\n",
            "37/37 [==============================] - 6s 157ms/step - loss: 1.0968 - accuracy: 0.3325\n",
            "Epoch 49/100\n",
            "37/37 [==============================] - 6s 153ms/step - loss: 1.0968 - accuracy: 0.3512\n",
            "Epoch 50/100\n",
            "37/37 [==============================] - 6s 155ms/step - loss: 1.0968 - accuracy: 0.3291\n",
            "Epoch 51/100\n",
            "37/37 [==============================] - 7s 177ms/step - loss: 1.0968 - accuracy: 0.3265\n",
            "Epoch 52/100\n",
            "37/37 [==============================] - 6s 166ms/step - loss: 1.0968 - accuracy: 0.3180\n",
            "Epoch 53/100\n",
            "37/37 [==============================] - 7s 189ms/step - loss: 1.0968 - accuracy: 0.3478\n",
            "Epoch 54/100\n",
            "37/37 [==============================] - 6s 158ms/step - loss: 1.0968 - accuracy: 0.3470\n",
            "Epoch 55/100\n",
            "37/37 [==============================] - 7s 184ms/step - loss: 1.0968 - accuracy: 0.3078\n",
            "Epoch 56/100\n",
            "37/37 [==============================] - 6s 160ms/step - loss: 1.0968 - accuracy: 0.3129\n",
            "Epoch 57/100\n",
            "37/37 [==============================] - 6s 157ms/step - loss: 1.0968 - accuracy: 0.3205\n",
            "Epoch 58/100\n",
            "37/37 [==============================] - 6s 153ms/step - loss: 1.0968 - accuracy: 0.3197\n",
            "Epoch 59/100\n",
            "37/37 [==============================] - 6s 174ms/step - loss: 1.0968 - accuracy: 0.3350\n",
            "Epoch 60/100\n",
            "37/37 [==============================] - 7s 180ms/step - loss: 1.0968 - accuracy: 0.3086\n",
            "Epoch 61/100\n",
            "37/37 [==============================] - 6s 167ms/step - loss: 1.0968 - accuracy: 0.3240\n",
            "Epoch 62/100\n",
            "37/37 [==============================] - 7s 177ms/step - loss: 1.0968 - accuracy: 0.3137\n",
            "Epoch 63/100\n",
            "37/37 [==============================] - 6s 160ms/step - loss: 1.0968 - accuracy: 0.3444\n",
            "Epoch 64/100\n",
            "37/37 [==============================] - 6s 171ms/step - loss: 1.0968 - accuracy: 0.3129\n",
            "Epoch 65/100\n",
            "37/37 [==============================] - 6s 162ms/step - loss: 1.0968 - accuracy: 0.3342\n",
            "Epoch 66/100\n",
            "37/37 [==============================] - 7s 188ms/step - loss: 1.0968 - accuracy: 0.3197\n",
            "Epoch 67/100\n",
            "37/37 [==============================] - 6s 159ms/step - loss: 1.0968 - accuracy: 0.3444\n",
            "Epoch 68/100\n",
            "37/37 [==============================] - 6s 167ms/step - loss: 1.0968 - accuracy: 0.3410\n",
            "Epoch 69/100\n",
            "37/37 [==============================] - 6s 153ms/step - loss: 1.0968 - accuracy: 0.3384\n",
            "Epoch 70/100\n",
            "37/37 [==============================] - 6s 174ms/step - loss: 1.0968 - accuracy: 0.3291\n",
            "Epoch 71/100\n",
            "37/37 [==============================] - 6s 159ms/step - loss: 1.0968 - accuracy: 0.3367\n",
            "Epoch 72/100\n",
            "37/37 [==============================] - 7s 195ms/step - loss: 1.0968 - accuracy: 0.3163\n",
            "Epoch 73/100\n",
            "37/37 [==============================] - 6s 168ms/step - loss: 1.0968 - accuracy: 0.3555\n",
            "Epoch 74/100\n",
            "37/37 [==============================] - 6s 169ms/step - loss: 1.0968 - accuracy: 0.3367\n",
            "Epoch 75/100\n",
            "37/37 [==============================] - 6s 166ms/step - loss: 1.0968 - accuracy: 0.3512\n",
            "Epoch 76/100\n",
            "37/37 [==============================] - 6s 152ms/step - loss: 1.0968 - accuracy: 0.3359\n",
            "Epoch 77/100\n",
            "37/37 [==============================] - 7s 182ms/step - loss: 1.0968 - accuracy: 0.3572\n",
            "Epoch 78/100\n",
            "37/37 [==============================] - 6s 168ms/step - loss: 1.0968 - accuracy: 0.3146\n",
            "Epoch 79/100\n",
            "37/37 [==============================] - 6s 172ms/step - loss: 1.0968 - accuracy: 0.3188\n",
            "Epoch 80/100\n",
            "37/37 [==============================] - 6s 161ms/step - loss: 1.0968 - accuracy: 0.3419\n",
            "Epoch 81/100\n",
            "37/37 [==============================] - 7s 181ms/step - loss: 1.0968 - accuracy: 0.3743\n",
            "Epoch 82/100\n",
            "37/37 [==============================] - 5s 146ms/step - loss: 1.0968 - accuracy: 0.3581\n",
            "Epoch 83/100\n",
            "37/37 [==============================] - 6s 168ms/step - loss: 1.0968 - accuracy: 0.3529\n",
            "Epoch 84/100\n",
            "37/37 [==============================] - 6s 169ms/step - loss: 1.0968 - accuracy: 0.3265\n",
            "Epoch 85/100\n",
            "37/37 [==============================] - 6s 152ms/step - loss: 1.0968 - accuracy: 0.3350\n",
            "Epoch 86/100\n",
            "37/37 [==============================] - 7s 179ms/step - loss: 1.0968 - accuracy: 0.3342\n",
            "Epoch 87/100\n",
            "37/37 [==============================] - 6s 161ms/step - loss: 1.0968 - accuracy: 0.3402\n",
            "Epoch 88/100\n",
            "37/37 [==============================] - 7s 188ms/step - loss: 1.0968 - accuracy: 0.3052\n",
            "Epoch 89/100\n",
            "37/37 [==============================] - 7s 178ms/step - loss: 1.0968 - accuracy: 0.3308\n",
            "Epoch 90/100\n",
            "37/37 [==============================] - 6s 162ms/step - loss: 1.0968 - accuracy: 0.3078\n",
            "Epoch 91/100\n",
            "37/37 [==============================] - 7s 178ms/step - loss: 1.0968 - accuracy: 0.3231\n",
            "Epoch 92/100\n",
            "37/37 [==============================] - 6s 169ms/step - loss: 1.0968 - accuracy: 0.3240\n",
            "Epoch 93/100\n",
            "37/37 [==============================] - 6s 161ms/step - loss: 1.0968 - accuracy: 0.3384\n",
            "Epoch 94/100\n",
            "37/37 [==============================] - 7s 186ms/step - loss: 1.0968 - accuracy: 0.3461\n",
            "Epoch 95/100\n",
            "37/37 [==============================] - 7s 187ms/step - loss: 1.0968 - accuracy: 0.3376\n",
            "Epoch 96/100\n",
            "37/37 [==============================] - 7s 187ms/step - loss: 1.0969 - accuracy: 0.3197\n",
            "Epoch 97/100\n",
            "37/37 [==============================] - 6s 171ms/step - loss: 1.0969 - accuracy: 0.3529\n",
            "Epoch 98/100\n",
            "37/37 [==============================] - 6s 173ms/step - loss: 1.0968 - accuracy: 0.3342\n",
            "Epoch 99/100\n",
            "37/37 [==============================] - 6s 174ms/step - loss: 1.0968 - accuracy: 0.3052\n",
            "Epoch 100/100\n",
            "37/37 [==============================] - 7s 180ms/step - loss: 1.0968 - accuracy: 0.3274\n"
          ]
        }
      ],
      "source": [
        "history = model.fit(train_x,train_y,epochs=100)\n",
        "#history = model.fit(train_x, train_y, epochs=10, batch_size=250, verbose=3, validation_split=0.2)\n",
        "#train_y = tf.one_hot(train_y, 10)\n",
        "#history = model.fit(train_x, train_y, steps_per_epoch=steps_per_epoch, validation_steps=validation_steps, batch_size=2048, verbose=1, validation_split=1)"
      ]
    },
    {
      "cell_type": "code",
      "execution_count": 17,
      "metadata": {
        "colab": {
          "base_uri": "https://localhost:8080/"
        },
        "id": "IBmI5KKv4BHw",
        "outputId": "957eb598-c77e-4796-b725-fad378436fc7"
      },
      "outputs": [
        {
          "output_type": "stream",
          "name": "stdout",
          "text": [
            "9/9 [==============================] - 1s 59ms/step\n",
            "[[0.33332065 0.3333682  0.33331105]\n",
            " [0.33332065 0.3333682  0.33331105]\n",
            " [0.33332065 0.3333682  0.33331105]\n",
            " [0.33332065 0.3333682  0.33331105]\n",
            " [0.33332065 0.3333682  0.33331105]\n",
            " [0.33332065 0.3333682  0.33331105]\n",
            " [0.33332065 0.3333682  0.33331105]\n",
            " [0.33332065 0.3333682  0.33331105]\n",
            " [0.33332065 0.3333682  0.33331105]\n",
            " [0.33332065 0.3333682  0.33331105]\n",
            " [0.33332065 0.3333682  0.33331105]\n",
            " [0.33332065 0.3333682  0.33331105]\n",
            " [0.33332065 0.3333682  0.33331105]\n",
            " [0.33332065 0.3333682  0.33331105]\n",
            " [0.33332065 0.3333682  0.33331105]\n",
            " [0.33332065 0.3333682  0.33331105]\n",
            " [0.33332065 0.3333682  0.33331105]\n",
            " [0.33332065 0.3333682  0.33331105]\n",
            " [0.33332065 0.3333682  0.33331105]\n",
            " [0.33332065 0.3333682  0.33331105]\n",
            " [0.33332065 0.3333682  0.33331105]\n",
            " [0.33332065 0.3333682  0.33331105]\n",
            " [0.33332065 0.3333682  0.33331105]\n",
            " [0.33332065 0.3333682  0.33331105]\n",
            " [0.33332065 0.3333682  0.33331105]\n",
            " [0.33332065 0.3333682  0.33331105]\n",
            " [0.33332065 0.3333682  0.33331105]\n",
            " [0.33332065 0.3333682  0.33331105]\n",
            " [0.33332065 0.3333682  0.33331105]\n",
            " [0.33332065 0.3333682  0.33331105]\n",
            " [0.33332065 0.3333682  0.33331102]\n",
            " [0.33332065 0.3333682  0.33331102]\n",
            " [0.33332065 0.3333682  0.33331105]\n",
            " [0.33332065 0.3333682  0.33331105]\n",
            " [0.33332065 0.3333682  0.33331105]\n",
            " [0.33332065 0.3333682  0.33331105]\n",
            " [0.33332065 0.3333682  0.33331105]\n",
            " [0.33332065 0.3333682  0.33331105]\n",
            " [0.33332065 0.3333682  0.33331105]\n",
            " [0.33332065 0.3333682  0.33331105]\n",
            " [0.33332065 0.3333682  0.33331105]\n",
            " [0.33332065 0.3333682  0.33331105]\n",
            " [0.33332065 0.3333682  0.33331105]\n",
            " [0.33332065 0.3333682  0.33331105]\n",
            " [0.33332065 0.3333682  0.33331105]\n",
            " [0.33332065 0.3333682  0.33331105]\n",
            " [0.33332065 0.3333682  0.33331105]\n",
            " [0.33332065 0.3333682  0.33331105]\n",
            " [0.33332065 0.3333682  0.33331105]\n",
            " [0.33332065 0.3333682  0.33331105]\n",
            " [0.33332065 0.3333682  0.33331105]\n",
            " [0.33332065 0.3333682  0.33331105]\n",
            " [0.33332065 0.3333682  0.33331105]\n",
            " [0.33332065 0.3333682  0.33331105]\n",
            " [0.33332065 0.3333682  0.33331105]\n",
            " [0.33332065 0.3333682  0.33331105]\n",
            " [0.33332065 0.3333682  0.33331105]\n",
            " [0.33332065 0.3333682  0.33331105]\n",
            " [0.3333207  0.3333682  0.33331105]\n",
            " [0.33332065 0.3333682  0.33331105]\n",
            " [0.33332065 0.3333682  0.33331105]\n",
            " [0.33332065 0.3333682  0.33331105]\n",
            " [0.33332065 0.3333682  0.33331102]\n",
            " [0.33332065 0.3333682  0.33331102]\n",
            " [0.33332065 0.3333682  0.33331105]\n",
            " [0.33332065 0.3333682  0.33331105]\n",
            " [0.33332065 0.3333682  0.33331105]\n",
            " [0.33332065 0.3333682  0.33331105]\n",
            " [0.33332065 0.3333682  0.33331105]\n",
            " [0.33332065 0.3333682  0.33331105]\n",
            " [0.33332065 0.3333682  0.33331105]\n",
            " [0.33332065 0.3333682  0.33331105]\n",
            " [0.33332065 0.3333682  0.33331105]\n",
            " [0.33332065 0.3333682  0.33331105]\n",
            " [0.33332065 0.3333682  0.33331105]\n",
            " [0.33332065 0.3333682  0.33331105]\n",
            " [0.33332065 0.3333682  0.33331105]\n",
            " [0.33332065 0.3333682  0.33331105]\n",
            " [0.33332065 0.3333682  0.33331105]\n",
            " [0.33332065 0.3333682  0.33331105]\n",
            " [0.33332065 0.3333682  0.33331105]\n",
            " [0.33332065 0.3333682  0.33331105]\n",
            " [0.33332065 0.3333682  0.33331105]\n",
            " [0.33332065 0.3333682  0.33331105]\n",
            " [0.33332065 0.3333682  0.33331105]\n",
            " [0.33332065 0.3333682  0.33331105]\n",
            " [0.33332065 0.3333682  0.33331105]\n",
            " [0.33332065 0.3333682  0.33331105]\n",
            " [0.33332065 0.3333682  0.33331105]\n",
            " [0.33332065 0.3333682  0.33331105]\n",
            " [0.33332065 0.3333682  0.33331105]\n",
            " [0.33332065 0.3333682  0.33331105]\n",
            " [0.33332065 0.3333682  0.33331105]\n",
            " [0.33332065 0.3333682  0.33331105]\n",
            " [0.33332065 0.3333682  0.33331102]\n",
            " [0.33332065 0.3333682  0.33331102]\n",
            " [0.33332065 0.3333682  0.33331105]\n",
            " [0.33332065 0.3333682  0.33331105]\n",
            " [0.33332065 0.3333682  0.33331105]\n",
            " [0.33332065 0.3333682  0.33331105]\n",
            " [0.33332065 0.3333682  0.33331105]\n",
            " [0.33332065 0.3333682  0.33331105]\n",
            " [0.33332065 0.3333682  0.33331105]\n",
            " [0.33332065 0.3333682  0.33331105]\n",
            " [0.33332065 0.3333682  0.33331105]\n",
            " [0.33332065 0.3333682  0.33331105]\n",
            " [0.33332065 0.3333682  0.33331105]\n",
            " [0.33332065 0.3333682  0.33331105]\n",
            " [0.33332065 0.3333682  0.33331105]\n",
            " [0.33332065 0.3333682  0.33331105]\n",
            " [0.33332065 0.3333682  0.33331105]\n",
            " [0.33332065 0.3333682  0.33331105]\n",
            " [0.33332065 0.3333682  0.33331105]\n",
            " [0.33332065 0.3333682  0.33331105]\n",
            " [0.33332065 0.3333682  0.33331105]\n",
            " [0.33332065 0.3333682  0.33331105]\n",
            " [0.33332065 0.3333682  0.33331105]\n",
            " [0.33332065 0.3333682  0.33331105]\n",
            " [0.33332065 0.3333682  0.33331105]\n",
            " [0.33332065 0.3333682  0.33331105]\n",
            " [0.33332065 0.3333682  0.33331105]\n",
            " [0.33332065 0.3333682  0.33331105]\n",
            " [0.33332065 0.3333682  0.33331105]\n",
            " [0.33332065 0.3333682  0.33331105]\n",
            " [0.33332065 0.3333682  0.33331105]\n",
            " [0.33332065 0.3333682  0.33331105]\n",
            " [0.33332065 0.3333682  0.33331102]\n",
            " [0.33332065 0.3333682  0.33331102]\n",
            " [0.33332065 0.3333682  0.33331105]\n",
            " [0.33332065 0.3333682  0.33331105]\n",
            " [0.33332065 0.3333682  0.33331105]\n",
            " [0.33332065 0.3333682  0.33331105]\n",
            " [0.33332065 0.3333682  0.33331105]\n",
            " [0.33332065 0.3333682  0.33331105]\n",
            " [0.33332065 0.3333682  0.33331105]\n",
            " [0.33332065 0.3333682  0.33331105]\n",
            " [0.33332065 0.3333682  0.33331105]\n",
            " [0.33332065 0.3333682  0.33331105]\n",
            " [0.33332065 0.3333682  0.33331105]\n",
            " [0.33332065 0.3333682  0.33331105]\n",
            " [0.33332065 0.3333682  0.33331105]\n",
            " [0.33332065 0.3333682  0.33331105]\n",
            " [0.33332065 0.3333682  0.33331105]\n",
            " [0.33332065 0.3333682  0.33331105]\n",
            " [0.33332065 0.3333682  0.33331105]\n",
            " [0.33332065 0.3333682  0.33331105]\n",
            " [0.33332065 0.3333682  0.33331105]\n",
            " [0.33332065 0.3333682  0.33331105]\n",
            " [0.33332065 0.3333682  0.33331105]\n",
            " [0.33332065 0.3333682  0.33331105]\n",
            " [0.33332065 0.3333682  0.33331105]\n",
            " [0.33332065 0.3333682  0.33331105]\n",
            " [0.33332065 0.3333682  0.33331105]\n",
            " [0.33332065 0.3333682  0.33331105]\n",
            " [0.33332062 0.3333682  0.33331114]\n",
            " [0.33332065 0.3333682  0.33331105]\n",
            " [0.33332065 0.3333682  0.33331105]\n",
            " [0.33332065 0.3333682  0.33331105]\n",
            " [0.33332065 0.3333682  0.33331102]\n",
            " [0.33332065 0.3333682  0.33331102]\n",
            " [0.33332065 0.3333682  0.33331105]\n",
            " [0.33332065 0.3333682  0.33331105]\n",
            " [0.33332065 0.3333682  0.33331105]\n",
            " [0.33332065 0.3333682  0.33331105]\n",
            " [0.33332065 0.3333682  0.33331105]\n",
            " [0.33332065 0.3333682  0.33331105]\n",
            " [0.33332065 0.3333682  0.33331105]\n",
            " [0.33332065 0.3333682  0.33331105]\n",
            " [0.33332065 0.3333682  0.33331105]\n",
            " [0.33332065 0.3333682  0.33331105]\n",
            " [0.33332065 0.3333682  0.33331105]\n",
            " [0.33332065 0.3333682  0.33331105]\n",
            " [0.33332065 0.3333682  0.33331105]\n",
            " [0.33332065 0.3333682  0.33331105]\n",
            " [0.33332065 0.3333682  0.33331105]\n",
            " [0.33332065 0.3333682  0.33331105]\n",
            " [0.33332065 0.3333682  0.33331105]\n",
            " [0.33332065 0.3333682  0.33331105]\n",
            " [0.33332065 0.3333682  0.33331105]\n",
            " [0.33332065 0.3333682  0.33331105]\n",
            " [0.33332065 0.3333682  0.33331105]\n",
            " [0.33332065 0.3333682  0.33331105]\n",
            " [0.33332065 0.3333682  0.33331105]\n",
            " [0.33332065 0.3333682  0.33331105]\n",
            " [0.33332065 0.3333682  0.33331105]\n",
            " [0.33332065 0.3333682  0.33331105]\n",
            " [0.33332065 0.3333682  0.33331105]\n",
            " [0.33332065 0.3333682  0.33331105]\n",
            " [0.33332065 0.3333682  0.33331105]\n",
            " [0.33332065 0.3333682  0.33331105]\n",
            " [0.33332065 0.3333682  0.33331102]\n",
            " [0.33332065 0.3333682  0.33331102]\n",
            " [0.33332065 0.3333682  0.33331105]\n",
            " [0.33332065 0.3333682  0.33331105]\n",
            " [0.33332065 0.3333682  0.33331105]\n",
            " [0.33332065 0.3333682  0.33331105]\n",
            " [0.33332065 0.3333682  0.33331105]\n",
            " [0.33332065 0.3333682  0.33331105]\n",
            " [0.33332065 0.3333682  0.33331105]\n",
            " [0.33332065 0.3333682  0.33331105]\n",
            " [0.33332065 0.3333682  0.33331105]\n",
            " [0.33332065 0.3333682  0.33331105]\n",
            " [0.33332065 0.3333682  0.33331105]\n",
            " [0.33332065 0.3333682  0.33331105]\n",
            " [0.33332065 0.3333682  0.33331105]\n",
            " [0.33332065 0.3333682  0.33331105]\n",
            " [0.33332065 0.3333682  0.33331105]\n",
            " [0.33332065 0.3333682  0.33331105]\n",
            " [0.33332065 0.3333682  0.33331105]\n",
            " [0.33332065 0.3333682  0.33331105]\n",
            " [0.33332065 0.3333682  0.33331105]\n",
            " [0.33332065 0.3333682  0.33331105]\n",
            " [0.33332065 0.3333682  0.33331105]\n",
            " [0.33332065 0.3333682  0.33331105]\n",
            " [0.33332065 0.3333682  0.33331105]\n",
            " [0.33332065 0.3333682  0.33331105]\n",
            " [0.33332065 0.3333682  0.33331105]\n",
            " [0.33332065 0.3333682  0.33331105]\n",
            " [0.33332065 0.3333682  0.33331105]\n",
            " [0.33332065 0.3333682  0.33331105]\n",
            " [0.33332065 0.3333682  0.33331105]\n",
            " [0.33332065 0.3333682  0.33331105]\n",
            " [0.33332065 0.3333682  0.33331102]\n",
            " [0.33332065 0.3333682  0.33331102]\n",
            " [0.33332065 0.3333682  0.33331105]\n",
            " [0.33332065 0.3333682  0.33331105]\n",
            " [0.33332065 0.3333682  0.33331105]\n",
            " [0.33332065 0.3333682  0.33331105]\n",
            " [0.33332065 0.3333682  0.33331105]\n",
            " [0.33332065 0.3333682  0.33331105]\n",
            " [0.33332065 0.3333682  0.33331105]\n",
            " [0.33332065 0.3333682  0.33331105]\n",
            " [0.33332065 0.3333682  0.33331105]\n",
            " [0.33332065 0.3333682  0.33331105]\n",
            " [0.33332065 0.3333682  0.33331105]\n",
            " [0.33332065 0.3333682  0.33331105]\n",
            " [0.33332065 0.3333682  0.33331105]\n",
            " [0.33332065 0.3333682  0.33331105]\n",
            " [0.33332065 0.3333682  0.33331105]\n",
            " [0.33332065 0.3333682  0.33331105]\n",
            " [0.33332065 0.3333682  0.33331105]\n",
            " [0.33332065 0.3333682  0.33331105]\n",
            " [0.33332065 0.3333682  0.33331105]\n",
            " [0.33332065 0.3333682  0.33331105]\n",
            " [0.33332065 0.3333682  0.33331105]\n",
            " [0.33332065 0.3333682  0.33331105]\n",
            " [0.33332065 0.3333682  0.33331105]\n",
            " [0.33332065 0.3333682  0.33331105]\n",
            " [0.33332065 0.3333682  0.33331105]\n",
            " [0.33332065 0.3333682  0.33331105]\n",
            " [0.33332065 0.3333682  0.33331105]\n",
            " [0.33332065 0.3333682  0.33331105]\n",
            " [0.33332065 0.3333682  0.33331105]\n",
            " [0.33332065 0.3333682  0.33331105]\n",
            " [0.33332065 0.3333682  0.33331102]\n",
            " [0.33332065 0.3333682  0.33331102]\n",
            " [0.33332068 0.33336824 0.33331105]\n",
            " [0.33332068 0.33336824 0.33331105]]\n"
          ]
        }
      ],
      "source": [
        "from sklearn.model_selection import cross_val_score\n",
        "from sklearn.metrics import accuracy_score,classification_report\n",
        "#cv_scores = cross_val_score(model, train_x, train_y, cv=5)\n",
        "#print(\"CV average score: %.2f\" % cv_scores.mean())\n",
        "\n",
        "pred_y_NN=model.predict(test_x)\n",
        "#accuracy_score(test_y, pred_y_NN)\n",
        "#cr = classification_report(test_y, pred_y_NN)\n",
        "print(pred_y_NN)\n",
        "#auc(test_y, pred_y_NN, round=True)"
      ]
    },
    {
      "cell_type": "markdown",
      "metadata": {
        "id": "RhXgQ2z-4BHw"
      },
      "source": [
        "Save the model"
      ]
    },
    {
      "cell_type": "code",
      "execution_count": 18,
      "metadata": {
        "id": "ZU3dngxi4BHw"
      },
      "outputs": [],
      "source": [
        "model.save('MLP_5.h9')"
      ]
    },
    {
      "cell_type": "markdown",
      "metadata": {
        "id": "9qUwMXGy4BHw"
      },
      "source": [
        "### Load the save model and test over a single dataset"
      ]
    },
    {
      "cell_type": "code",
      "execution_count": 19,
      "metadata": {
        "id": "GFZTkP1L4BHw"
      },
      "outputs": [],
      "source": [
        "#pip install Flask-SQLAlchemy"
      ]
    },
    {
      "cell_type": "code",
      "execution_count": 20,
      "metadata": {
        "id": "PkMQj9DB4BHw"
      },
      "outputs": [],
      "source": [
        "from sqlalchemy.orm import mapper\n",
        "import tensorflow\n",
        "from tensorflow.keras.models import load_model\n",
        "from tensorflow.keras.preprocessing.image import load_img\n",
        "model = tensorflow.keras.models.load_model('MLP_5.h9')"
      ]
    },
    {
      "cell_type": "code",
      "execution_count": 21,
      "metadata": {
        "id": "DBMjtv-i4BHw"
      },
      "outputs": [],
      "source": [
        "import matplotlib.pyplot as plt\n",
        "import cv2 as cv\n",
        "# Convertir la imagen a NumPy array\n",
        "from matplotlib.image import imread\n",
        "import numpy as np"
      ]
    },
    {
      "cell_type": "code",
      "execution_count": 22,
      "metadata": {
        "colab": {
          "base_uri": "https://localhost:8080/",
          "height": 322
        },
        "id": "M_i2ct4b4BHw",
        "outputId": "5ee8a9eb-084b-440b-841d-e8d327501604"
      },
      "outputs": [
        {
          "output_type": "error",
          "ename": "FileNotFoundError",
          "evalue": "ignored",
          "traceback": [
            "\u001b[0;31m---------------------------------------------------------------------------\u001b[0m",
            "\u001b[0;31mFileNotFoundError\u001b[0m                         Traceback (most recent call last)",
            "\u001b[0;32m<ipython-input-22-129f7fb8c4de>\u001b[0m in \u001b[0;36m<module>\u001b[0;34m\u001b[0m\n\u001b[0;32m----> 1\u001b[0;31m \u001b[0mimg\u001b[0m \u001b[0;34m=\u001b[0m \u001b[0mload_img\u001b[0m\u001b[0;34m(\u001b[0m\u001b[0;34m'./platano1.jpg'\u001b[0m\u001b[0;34m,\u001b[0m \u001b[0mtarget_size\u001b[0m\u001b[0;34m=\u001b[0m\u001b[0;34m(\u001b[0m\u001b[0;36m224\u001b[0m\u001b[0;34m,\u001b[0m \u001b[0;36m224\u001b[0m\u001b[0;34m)\u001b[0m\u001b[0;34m)\u001b[0m\u001b[0;34m\u001b[0m\u001b[0;34m\u001b[0m\u001b[0m\n\u001b[0m\u001b[1;32m      2\u001b[0m \u001b[0;34m\u001b[0m\u001b[0m\n\u001b[1;32m      3\u001b[0m \u001b[0mprint\u001b[0m\u001b[0;34m(\u001b[0m\u001b[0mtype\u001b[0m\u001b[0;34m(\u001b[0m\u001b[0mimg\u001b[0m\u001b[0;34m)\u001b[0m\u001b[0;34m)\u001b[0m\u001b[0;34m\u001b[0m\u001b[0;34m\u001b[0m\u001b[0m\n",
            "\u001b[0;32m/usr/local/lib/python3.8/dist-packages/keras/utils/image_utils.py\u001b[0m in \u001b[0;36mload_img\u001b[0;34m(path, grayscale, color_mode, target_size, interpolation, keep_aspect_ratio)\u001b[0m\n\u001b[1;32m    391\u001b[0m     \u001b[0;32mif\u001b[0m \u001b[0misinstance\u001b[0m\u001b[0;34m(\u001b[0m\u001b[0mpath\u001b[0m\u001b[0;34m,\u001b[0m \u001b[0mpathlib\u001b[0m\u001b[0;34m.\u001b[0m\u001b[0mPath\u001b[0m\u001b[0;34m)\u001b[0m\u001b[0;34m:\u001b[0m\u001b[0;34m\u001b[0m\u001b[0;34m\u001b[0m\u001b[0m\n\u001b[1;32m    392\u001b[0m       \u001b[0mpath\u001b[0m \u001b[0;34m=\u001b[0m \u001b[0mstr\u001b[0m\u001b[0;34m(\u001b[0m\u001b[0mpath\u001b[0m\u001b[0;34m.\u001b[0m\u001b[0mresolve\u001b[0m\u001b[0;34m(\u001b[0m\u001b[0;34m)\u001b[0m\u001b[0;34m)\u001b[0m\u001b[0;34m\u001b[0m\u001b[0;34m\u001b[0m\u001b[0m\n\u001b[0;32m--> 393\u001b[0;31m     \u001b[0;32mwith\u001b[0m \u001b[0mopen\u001b[0m\u001b[0;34m(\u001b[0m\u001b[0mpath\u001b[0m\u001b[0;34m,\u001b[0m \u001b[0;34m'rb'\u001b[0m\u001b[0;34m)\u001b[0m \u001b[0;32mas\u001b[0m \u001b[0mf\u001b[0m\u001b[0;34m:\u001b[0m\u001b[0;34m\u001b[0m\u001b[0;34m\u001b[0m\u001b[0m\n\u001b[0m\u001b[1;32m    394\u001b[0m       \u001b[0mimg\u001b[0m \u001b[0;34m=\u001b[0m \u001b[0mpil_image\u001b[0m\u001b[0;34m.\u001b[0m\u001b[0mopen\u001b[0m\u001b[0;34m(\u001b[0m\u001b[0mio\u001b[0m\u001b[0;34m.\u001b[0m\u001b[0mBytesIO\u001b[0m\u001b[0;34m(\u001b[0m\u001b[0mf\u001b[0m\u001b[0;34m.\u001b[0m\u001b[0mread\u001b[0m\u001b[0;34m(\u001b[0m\u001b[0;34m)\u001b[0m\u001b[0;34m)\u001b[0m\u001b[0;34m)\u001b[0m\u001b[0;34m\u001b[0m\u001b[0;34m\u001b[0m\u001b[0m\n\u001b[1;32m    395\u001b[0m   \u001b[0;32melse\u001b[0m\u001b[0;34m:\u001b[0m\u001b[0;34m\u001b[0m\u001b[0;34m\u001b[0m\u001b[0m\n",
            "\u001b[0;31mFileNotFoundError\u001b[0m: [Errno 2] No such file or directory: './platano1.jpg'"
          ]
        }
      ],
      "source": [
        "img = load_img('./platano1.jpg', target_size=(224, 224))\n",
        "\n",
        "print(type(img))"
      ]
    },
    {
      "cell_type": "code",
      "execution_count": null,
      "metadata": {
        "id": "n2DFahdX4BHx",
        "outputId": "1b5353b1-a8fb-4092-9f9d-17ae86a0dc90"
      },
      "outputs": [
        {
          "data": {
            "image/png": "[encoded data removed]",
            "text/plain": [
              "<Figure size 640x480 with 1 Axes>"
            ]
          },
          "metadata": {},
          "output_type": "display_data"
        }
      ],
      "source": [
        "plt.imshow(img)\n",
        "plt.show()"
      ]
    },
    {
      "cell_type": "code",
      "execution_count": null,
      "metadata": {
        "id": "Pr38Eun54BHx"
      },
      "outputs": [],
      "source": [
        "img = np.asarray(img)\n",
        "img = np.expand_dims(img, axis=0)\n",
        "#print(img)"
      ]
    },
    {
      "cell_type": "code",
      "execution_count": null,
      "metadata": {
        "id": "gug5-bsh4BHx",
        "outputId": "1c9b4581-dc19-4035-940b-f6f991bea06d"
      },
      "outputs": [
        {
          "name": "stdout",
          "output_type": "stream",
          "text": [
            "1/1 [==============================] - 0s 31ms/step\n"
          ]
        }
      ],
      "source": [
        "\n",
        "predict = model.predict(img)\n",
        "classes=predict=np.argmax(predict,axis=1)\n",
        "#move_name = mapper(predict)\n",
        "#print(\"La predict is {}.\".format(move_name))"
      ]
    },
    {
      "cell_type": "code",
      "execution_count": null,
      "metadata": {
        "id": "9-4WR3pi4BHx",
        "outputId": "09fd3ab6-f0c5-45e3-9c9c-d2e699502505"
      },
      "outputs": [
        {
          "name": "stdout",
          "output_type": "stream",
          "text": [
            "Naranja\n"
          ]
        }
      ],
      "source": [
        "if classes==0:\n",
        "    print('blueberry')\n",
        "elif classes==1:\n",
        "    print('Naranja')\n",
        "\n",
        "elif classes==2:\n",
        "     print('platano')\n"
      ]
    },
    {
      "cell_type": "code",
      "execution_count": null,
      "metadata": {
        "id": "UUT6xYko4BHx",
        "outputId": "42fcf298-418c-4c1a-de3f-342d588ea532"
      },
      "outputs": [
        {
          "name": "stdout",
          "output_type": "stream",
          "text": [
            "[2]\n"
          ]
        }
      ],
      "source": [
        "print(predict)"
      ]
    },
    {
      "cell_type": "code",
      "execution_count": null,
      "metadata": {
        "id": "yLH1aFai4BHx"
      },
      "outputs": [],
      "source": []
    }
  ],
  "metadata": {
    "kernelspec": {
      "display_name": "Python 3 (ipykernel)",
      "language": "python",
      "name": "python3"
    },
    "language_info": {
      "codemirror_mode": {
        "name": "ipython",
        "version": 3
      },
      "file_extension": ".py",
      "mimetype": "text/x-python",
      "name": "python",
      "nbconvert_exporter": "python",
      "pygments_lexer": "ipython3",
      "version": "3.7.13"
    },
    "colab": {
      "provenance": [],
      "include_colab_link": true
    }
  },
  "nbformat": 4,
  "nbformat_minor": 0
}